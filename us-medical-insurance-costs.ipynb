{
 "cells": [
  {
   "cell_type": "markdown",
   "metadata": {},
   "source": [
    "# U.S. Medical Insurance Costs"
   ]
  },
  {
   "cell_type": "code",
   "execution_count": 9,
   "metadata": {},
   "outputs": [],
   "source": [
    "import csv\n",
    "import json\n",
    "import pandas as pd\n",
    "import numpy as np\n"
   ]
  },
  {
   "cell_type": "code",
   "execution_count": 85,
   "metadata": {},
   "outputs": [
    {
     "data": {
      "text/plain": [
       "['6', '1']"
      ]
     },
     "execution_count": 85,
     "metadata": {},
     "output_type": "execute_result"
    }
   ],
   "source": [
    "with open('insurance.csv', newline='') as insurance_data:\n",
    "    data1 = csv.reader(insurance_data)\n",
    "    #for row in data1:\n",
    "        #print(row)\n",
    "    data_dict = csv.DictReader(insurance_data)\n",
    "    for row in data_dict:\n",
    "        ages = list(row['age'])\n"
   ]
  },
  {
   "cell_type": "code",
   "execution_count": 70,
   "metadata": {},
   "outputs": [
    {
     "data": {
      "text/plain": [
       "'61'"
      ]
     },
     "execution_count": 70,
     "metadata": {},
     "output_type": "execute_result"
    }
   ],
   "source": [
    "data2 = pd.read_csv('insurance.csv')\n",
    "data2.head()"
   ]
  },
  {
   "cell_type": "code",
   "execution_count": 53,
   "metadata": {},
   "outputs": [],
   "source": [
    "#**statistcal analysis for age**\n",
    "ages_mean = data2['age'].mean()\n",
    "ages_max = data2['age'].max()\n",
    "age_min = data2['age'].min()\n",
    "age_median = data2['age'].median()\n",
    "\n",
    "#**statistcal analysis for bmi**\n",
    "bmi_mean = data2['bmi'].mean()\n",
    "bmi_max = data2['bmi'].max()\n",
    "bmi_min = data2['bmi'].min()\n",
    "bmi_median = data2['bmi'].median()\n",
    "\n",
    "#**the insurance mean charge due to smoking:\n",
    "mean_charges_for_smokers = data2[data2['smoker'] == 'yes']['charges'].mean()\n",
    "mean_charges_for_none_smokers = data2[data2['smoker'] == 'no']['charges'].mean()\n",
    "difference = mean_charges_for_smokers - mean_charges_for_none_smokers\n",
    "\n",
    "#**statistcal analysis for children**\n",
    "average_num_children = data2['children'].mean()\n",
    "max_num_children = data2['children'].max()\n",
    "min_num_children = data2['children'].min()\n",
    "age_avg_for_people_at_lest_with_one_child = data2[data2['children'] >= 1]['age'].mean()"
   ]
  },
  {
   "cell_type": "code",
   "execution_count": 88,
   "metadata": {},
   "outputs": [
    {
     "data": {
      "text/html": [
       "<div>\n",
       "<style scoped>\n",
       "    .dataframe tbody tr th:only-of-type {\n",
       "        vertical-align: middle;\n",
       "    }\n",
       "\n",
       "    .dataframe tbody tr th {\n",
       "        vertical-align: top;\n",
       "    }\n",
       "\n",
       "    .dataframe thead th {\n",
       "        text-align: right;\n",
       "    }\n",
       "</style>\n",
       "<table border=\"1\" class=\"dataframe\">\n",
       "  <thead>\n",
       "    <tr style=\"text-align: right;\">\n",
       "      <th></th>\n",
       "      <th>age</th>\n",
       "      <th>sex</th>\n",
       "      <th>bmi</th>\n",
       "      <th>children</th>\n",
       "      <th>smoker</th>\n",
       "      <th>region</th>\n",
       "      <th>charges</th>\n",
       "    </tr>\n",
       "  </thead>\n",
       "  <tbody>\n",
       "    <tr>\n",
       "      <th>0</th>\n",
       "      <td>19</td>\n",
       "      <td>female</td>\n",
       "      <td>27.900</td>\n",
       "      <td>0</td>\n",
       "      <td>yes</td>\n",
       "      <td>southwest</td>\n",
       "      <td>16884.92400</td>\n",
       "    </tr>\n",
       "    <tr>\n",
       "      <th>1</th>\n",
       "      <td>18</td>\n",
       "      <td>male</td>\n",
       "      <td>33.770</td>\n",
       "      <td>1</td>\n",
       "      <td>no</td>\n",
       "      <td>southeast</td>\n",
       "      <td>1725.55230</td>\n",
       "    </tr>\n",
       "    <tr>\n",
       "      <th>2</th>\n",
       "      <td>28</td>\n",
       "      <td>male</td>\n",
       "      <td>33.000</td>\n",
       "      <td>3</td>\n",
       "      <td>no</td>\n",
       "      <td>southeast</td>\n",
       "      <td>4449.46200</td>\n",
       "    </tr>\n",
       "    <tr>\n",
       "      <th>3</th>\n",
       "      <td>33</td>\n",
       "      <td>male</td>\n",
       "      <td>22.705</td>\n",
       "      <td>0</td>\n",
       "      <td>no</td>\n",
       "      <td>northwest</td>\n",
       "      <td>21984.47061</td>\n",
       "    </tr>\n",
       "    <tr>\n",
       "      <th>4</th>\n",
       "      <td>32</td>\n",
       "      <td>male</td>\n",
       "      <td>28.880</td>\n",
       "      <td>0</td>\n",
       "      <td>no</td>\n",
       "      <td>northwest</td>\n",
       "      <td>3866.85520</td>\n",
       "    </tr>\n",
       "  </tbody>\n",
       "</table>\n",
       "</div>"
      ],
      "text/plain": [
       "   age     sex     bmi  children smoker     region      charges\n",
       "0   19  female  27.900         0    yes  southwest  16884.92400\n",
       "1   18    male  33.770         1     no  southeast   1725.55230\n",
       "2   28    male  33.000         3     no  southeast   4449.46200\n",
       "3   33    male  22.705         0     no  northwest  21984.47061\n",
       "4   32    male  28.880         0     no  northwest   3866.85520"
      ]
     },
     "execution_count": 88,
     "metadata": {},
     "output_type": "execute_result"
    }
   ],
   "source": [
    "#calculating each region how many people in it:\n",
    "region_list = list(data2['region'])\n",
    "areas_nums_dict = {}\n",
    "for area in region_list:\n",
    "    if area in areas_nums_dict:\n",
    "        areas_nums_dict[area] += 1\n",
    "    else:\n",
    "        areas_nums_dict[area] = 1\n",
    "data2.head()"
   ]
  },
  {
   "cell_type": "code",
   "execution_count": 91,
   "metadata": {},
   "outputs": [
    {
     "data": {
      "text/plain": [
       "64"
      ]
     },
     "execution_count": 91,
     "metadata": {},
     "output_type": "execute_result"
    }
   ],
   "source": [
    "#statistics in old_fashion:\n",
    "\n",
    "ages_list = list(data2['age'])\n",
    "bmi_list = list(data2['bmi'])\n",
    "sex_list = list(data2['sex'])\n",
    "children_list = list(data2['children'])\n",
    "smoker_list = list(data2['smoker'])\n",
    "region_list = list(data2['region'])\n",
    "chrages_list = list(data2['charges'])\n",
    "\n",
    "mean_of_ages = sum(ages_list)/ len(ages_list)\n",
    "mean_of_bmi = sum(bmi_list)/len(bmi_list)\n",
    "#..etc\n",
    "\n",
    "##calculating max_age, max_bmi, max_every_thing:\n",
    "def find_max_age(ages_list):\n",
    "    max_age = 0\n",
    "    for age in ages_list:\n",
    "        if age > max_age:\n",
    "            max_age = age\n",
    "    return max_age\n",
    "#calculating each region how many people in it:\n"
   ]
  },
  {
   "cell_type": "code",
   "execution_count": null,
   "metadata": {},
   "outputs": [],
   "source": []
  }
 ],
 "metadata": {
  "kernelspec": {
   "display_name": "Python 3",
   "language": "python",
   "name": "python3"
  }
 },
 "nbformat": 4,
 "nbformat_minor": 4
}
